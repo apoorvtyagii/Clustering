{
 "cells": [
  {
   "cell_type": "code",
   "execution_count": 1,
   "metadata": {},
   "outputs": [],
   "source": [
    "# K-Means Clustering\n",
    "\n",
    "\n",
    "import numpy as np\n",
    "import matplotlib.pyplot as plt\n",
    "import pandas as pd\n",
    "from matplotlib import pyplot as plt\n",
    "from sklearn.cluster import KMeans\n",
    "from scipy.spatial.distance import cdist"
   ]
  },
  {
   "cell_type": "code",
   "execution_count": 2,
   "metadata": {},
   "outputs": [],
   "source": [
    "data = pd.read_csv('deliveryfleet.csv')\n",
    "a = data['Distance_Feature'].values\n",
    "b = data['Speeding_Feature'].values\n",
    "X = np.array(list(zip(a, b)))"
   ]
  },
  {
   "cell_type": "code",
   "execution_count": null,
   "metadata": {},
   "outputs": [],
   "source": [
    "k = 4\n",
    "C_x = np.random.randint(0, np.max(X)-20, size=k)\n",
    "C_y = np.random.randint(0, np.max(X)-20, size=k)\n",
    "C = np.array(list(zip(C_x, C_y)), dtype=np.float32)"
   ]
  },
  {
   "cell_type": "code",
   "execution_count": null,
   "metadata": {},
   "outputs": [],
   "source": [
    "\n",
    "plt.scatter(a, b, s=1)\n",
    "plt.scatter(C_x, C_y, s =80,c=\"g\")\n",
    "plt.xlabel(\"Distance Feature\")\n",
    "plt.ylabel(\"Speeding Feature\")\n",
    "plt.title(\"rural drivers vs urban drivers\")"
   ]
  },
  {
   "cell_type": "code",
   "execution_count": null,
   "metadata": {},
   "outputs": [],
   "source": [
    "len(X)"
   ]
  },
  {
   "cell_type": "code",
   "execution_count": 4,
   "metadata": {},
   "outputs": [],
   "source": [
    "kmeans = KMeans(n_clusters=4)\n",
    "kmeans = kmeans.fit(X)\n",
    "labels = kmeans.predict(X)\n",
    "centroids = kmeans.cluster_centers_"
   ]
  },
  {
   "cell_type": "code",
   "execution_count": 7,
   "metadata": {
    "scrolled": true
   },
   "outputs": [
    {
     "data": {
      "image/png": "[encoded data removed]",
      "text/plain": [
       "<matplotlib.figure.Figure at 0x1f18b819d30>"
      ]
     },
     "metadata": {
      "needs_background": "light"
     },
     "output_type": "display_data"
    }
   ],
   "source": [
    "# colors = ['r', 'g','b','y','c','m','o','w']\n",
    "# f2 = plt.figure()\n",
    "# kx = f2.add_subplot(111)\n",
    "for i in range (4):\n",
    "    points = np.array([X[j] for j in range (len(X)) if labels[j] == i])\n",
    "    plt.scatter(points[:, 0], points[:, 1], cmap='g')\n",
    "\n",
    "# kx.scatter(centroids[:, 0], centroids[:, 1],s= 1000, c='y')\n",
    "# print('final centroids')\n",
    "# print(centroids)\n",
    "# plt.xlabel(\"Distance Feature\")\n",
    "# plt.ylabel(\"Speeding Feature\")\n",
    "# plt.title(\"Number of clusters = {}\".format(k))"
   ]
  },
  {
   "cell_type": "code",
   "execution_count": null,
   "metadata": {},
   "outputs": [],
   "source": [
    "# cluster 1 – low speed and less distance rural drivers (within their area)\n",
    "\n",
    "# cluster 2 – mediun speed and less distance urban drivers (within city in trafic)\n",
    "\n",
    "# cluster 3 – low speed and long distance drivers\n",
    "\n",
    "# cluster 4  – high speed and long distance drivers "
   ]
  },
  {
   "cell_type": "code",
   "execution_count": null,
   "metadata": {},
   "outputs": [],
   "source": []
  }
 ],
 "metadata": {
  "kernelspec": {
   "display_name": "Python 3",
   "language": "python",
   "name": "python3"
  },
  "language_info": {
   "codemirror_mode": {
    "name": "ipython",
    "version": 3
   },
   "file_extension": ".py",
   "mimetype": "text/x-python",
   "name": "python",
   "nbconvert_exporter": "python",
   "pygments_lexer": "ipython3",
   "version": "3.6.4"
  }
 },
 "nbformat": 4,
 "nbformat_minor": 2
}
